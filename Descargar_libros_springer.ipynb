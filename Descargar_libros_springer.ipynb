{
  "nbformat": 4,
  "nbformat_minor": 0,
  "metadata": {
    "colab": {
      "name": "Descargar_libros_springer.ipynb",
      "provenance": [],
      "collapsed_sections": [],
      "include_colab_link": true
    },
    "kernelspec": {
      "name": "python3",
      "display_name": "Python 3"
    }
  },
  "cells": [
    {
      "cell_type": "markdown",
      "metadata": {
        "id": "view-in-github",
        "colab_type": "text"
      },
      "source": [
        "<a href=\"https://colab.research.google.com/github/chdiazguerra/libros_springer/blob/master/Descargar_libros_springer.ipynb\" target=\"_parent\"><img src=\"https://colab.research.google.com/assets/colab-badge.svg\" alt=\"Open In Colab\"/></a>"
      ]
    },
    {
      "cell_type": "code",
      "metadata": {
        "id": "pfRTf6ZVLM1e",
        "colab_type": "code",
        "colab": {}
      },
      "source": [
        "from google.colab import drive\n",
        "drive.mount('/content/drive')"
      ],
      "execution_count": 0,
      "outputs": []
    },
    {
      "cell_type": "code",
      "metadata": {
        "id": "xuhLd0VFEg1O",
        "colab_type": "code",
        "colab": {}
      },
      "source": [
        "!git clone https://github.com/chdiazguerra/libros_springer.git"
      ],
      "execution_count": 0,
      "outputs": []
    },
    {
      "cell_type": "code",
      "metadata": {
        "id": "x5Eow0Lftazi",
        "colab_type": "code",
        "colab": {}
      },
      "source": [
        "cd libros_springer"
      ],
      "execution_count": 0,
      "outputs": []
    },
    {
      "cell_type": "code",
      "metadata": {
        "id": "k2emvtLuEVvz",
        "colab_type": "code",
        "colab": {}
      },
      "source": [
        "import pandas as pd\n",
        "import requests\n",
        "\n",
        "libros = pd.read_csv('datos.csv',',')\n",
        "titulos = libros['Book Title']\n",
        "links = libros['OpenURL']"
      ],
      "execution_count": 0,
      "outputs": []
    },
    {
      "cell_type": "code",
      "metadata": {
        "id": "xjRgAgGMLeO2",
        "colab_type": "code",
        "colab": {}
      },
      "source": [
        "cd ../drive"
      ],
      "execution_count": 0,
      "outputs": []
    },
    {
      "cell_type": "code",
      "metadata": {
        "id": "PCz1Hza4LyyW",
        "colab_type": "code",
        "colab": {}
      },
      "source": [
        "cd My\\ Drive"
      ],
      "execution_count": 0,
      "outputs": []
    },
    {
      "cell_type": "markdown",
      "metadata": {
        "id": "q1tBfeP4MTwg",
        "colab_type": "text"
      },
      "source": [
        "Puedes cambiar el nombre de la carpeta Descargas (que es donde se van a guardar los libros) a otro que desees. Como recomendación, asegurate que ese nombre no exista en tu Google Drive. Ten en cuenta que el peso total es de >6gb."
      ]
    },
    {
      "cell_type": "code",
      "metadata": {
        "id": "6GVmyP8SEedQ",
        "colab_type": "code",
        "colab": {}
      },
      "source": [
        "!mkdir Descargas"
      ],
      "execution_count": 0,
      "outputs": []
    },
    {
      "cell_type": "code",
      "metadata": {
        "id": "HQbilYDyEjt9",
        "colab_type": "code",
        "colab": {}
      },
      "source": [
        "cd Descargas"
      ],
      "execution_count": 0,
      "outputs": []
    },
    {
      "cell_type": "markdown",
      "metadata": {
        "id": "MuSND8poMqH_",
        "colab_type": "text"
      },
      "source": [
        "Si quieres descargar solo una cantidad limitada de libros, cambia len(links) por la cantidad que quieras"
      ]
    },
    {
      "cell_type": "code",
      "metadata": {
        "id": "OwExko1Wi0mg",
        "colab_type": "code",
        "colab": {}
      },
      "source": [
        "for i in range(len(links)):\n",
        "  titulo = titulos[i]\n",
        "  titulo = titulo.replace('/','_')\n",
        "  link = links[i]\n",
        "  archivo = requests.get(link, allow_redirects=True)\n",
        "  open(titulo+'.pdf', 'wb').write(archivo.content)\n",
        "print('Done')"
      ],
      "execution_count": 0,
      "outputs": []
    }
  ]
}
